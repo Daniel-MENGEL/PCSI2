{
  "cells": [
    {
      "cell_type": "markdown",
      "metadata": {
        "id": "view-in-github",
        "colab_type": "text"
      },
      "source": [
        "<a href=\"https://colab.research.google.com/github/Daniel-MENGEL/PCSI2/blob/main/Incertitudes.ipynb\" target=\"_parent\"><img src=\"https://colab.research.google.com/assets/colab-badge.svg\" alt=\"Open In Colab\"/></a>"
      ]
    },
    {
      "cell_type": "markdown",
      "metadata": {
        "id": "SVG1DPinMUF4"
      },
      "source": [
        "# <center>  **Incertitudes** </center>\n",
        "\n",
        "\n",
        "PCSI2 Fabert\n",
        "\n",
        "\n",
        "Bravo, vous voiçi en présence d'un NoteBook !\n",
        "Il s'agit d'un ensemble de cellules de texte ou de code que vous validez en appuyant simultanément sur les touches SHIFT et Entrée.\n",
        "\n",
        "\n",
        "![](http://www.pcsi2.net/fabert/wp-content/uploads/physique/Incertitudes.pdf)\n",
        "\n",
        "[Pdf complet](http://www.pcsi2.net/fabert/wp-content/uploads/physique/Incertitudes.pdf)"
      ]
    },
    {
      "cell_type": "markdown",
      "source": [
        "Valider une cellule de texte permet simplement de passer à la cellule suivante.\n",
        "Valider une cellule de code exécute le code."
      ],
      "metadata": {
        "id": "c9fqCfb2KOq_"
      }
    },
    {
      "cell_type": "code",
      "source": [
        "print()"
      ],
      "metadata": {
        "id": "BB9zKBKxKdMK"
      },
      "execution_count": null,
      "outputs": []
    },
    {
      "cell_type": "markdown",
      "source": [
        "Vous pouvez modifier les cellules par \"double clic\"."
      ],
      "metadata": {
        "id": "QsBoECoPKj2c"
      }
    },
    {
      "cell_type": "markdown",
      "metadata": {
        "id": "Muao3maCAuwt"
      },
      "source": [
        "## Mesure de la période d'oscilation de l'oscillateur mécanique\n",
        "\n",
        "### Variabilité"
      ]
    },
    {
      "cell_type": "markdown",
      "metadata": {
        "id": "05OM906y7Lal"
      },
      "source": [
        "But de la manipulation : on cherche à mesurer la période d'oscillation du système masse - ressort vertical.\n",
        "\n",
        "Protocole :\n",
        "* On écarte verticalement, vers le bas, la masse de un ou deux cm de sa position d'équilibre. Il ne faut pas trop déformer le ressort et faire en sorte que les oscillations restent verticales pendant la durée de la mesure.\n",
        "* On lache la masse sans vitesse initiale.\n",
        "* On laisse passer au moins une première oscillation et on déclenche le chronomètre au moment où la masse revient au point le plus bas.\n",
        "* On compte 10 oscillations avant de stopper le chronomètre.\n",
        "\n",
        "Exploitation : on a ainsi obtenu une valeur de $10T$ et on calcule $T$ en divisant simplement par 10. L'affichage se fait avec la command print()"
      ]
    },
    {
      "cell_type": "code",
      "execution_count": null,
      "metadata": {
        "id": "wxxXYXxvQNWC"
      },
      "outputs": [],
      "source": [
        "Dix_Ti= # s\n",
        "T=Dix_Ti/10\n",
        "print(\"T=\",T,\" s\")"
      ]
    },
    {
      "cell_type": "markdown",
      "metadata": {
        "id": "ZbON1uc9QJtW"
      },
      "source": [
        "On remarque que si on reproduit l'opération, on n'obtient pas forcément la même valeur de $10T$ !\n",
        "Cela traduit simplement la variabilité de la mesure.\n",
        "\n",
        "La différence entre deux valeurs est de l'ordre de ?? s cela nous donne un ordre de grandeur de l'écart type $u(10T)$ sur la mesure de $10T$.\n"
      ]
    },
    {
      "cell_type": "markdown",
      "metadata": {
        "id": "KTEjJ882sVB0"
      },
      "source": [
        "### Meilleur estimateur et écart type\n",
        "\n",
        "Nous allons travailler avec des tableaux, on a besoin de \"charger\" la bibliothèque numpy"
      ]
    },
    {
      "cell_type": "code",
      "execution_count": null,
      "metadata": {
        "id": "ASFtsi4hBd8S"
      },
      "outputs": [],
      "source": [
        "import numpy as np #pour les tableaux"
      ]
    },
    {
      "cell_type": "markdown",
      "metadata": {
        "id": "vDOA1XGZBnDL"
      },
      "source": [
        "On peut alors créer et compléter le tableau contenant les valeurs \"brutes\" mesurées et en déduire le tableau des valeurs obtenues pour $T$.\n"
      ]
    },
    {
      "cell_type": "code",
      "execution_count": null,
      "metadata": {
        "id": "m8SkmHc-BnfC"
      },
      "outputs": [],
      "source": [
        "Dix_T=np.array([??,??],dtype=float) # Création du tableau, on précise que les données qu'il contient sont des réels (nombres à virgule \".\" et non \",\")\n",
        "\n",
        "T=Dix_T/10 # Calcul et affichage des valeurs de $T$.\n",
        "print(T)\n"
      ]
    },
    {
      "cell_type": "markdown",
      "metadata": {
        "id": "bIZTv0RpE_ZD"
      },
      "source": [
        "Dès qu'on a un tableau de valeurs, il devient facile de faire calculer la valeur moyenne et l'écart type de la grandeur.\n",
        "\n",
        "Commencons par visualiser la distribution des valeurs obtenues sur un axe.\n",
        "Pour tout ce qui est représentation graphique, il nous faut charger le module matplotlib.pyplot"
      ]
    },
    {
      "cell_type": "code",
      "execution_count": null,
      "metadata": {
        "id": "4e9NLf2DDuoU"
      },
      "outputs": [],
      "source": [
        "import matplotlib.pyplot as plt #pour les graphes\n",
        "\n",
        "plt.figure(figsize=(18,1)) # création du graphique en précisant sa taille\n",
        "plt.title(\"Répartition des valeurs mesurées\") # titre du graphique\n",
        "plt.plot(T,0*T,'.') # tracé (différentes valeurs du tableau T sur un axe horizontal T en abscisse et 0 en ordonné)"
      ]
    },
    {
      "cell_type": "code",
      "execution_count": null,
      "metadata": {
        "id": "FEPriLsyFcxQ"
      },
      "outputs": [],
      "source": [
        "T_m=?? # calcul de la valeur moyenne du tableau T\n",
        "uT=?? # calcul de l'écart type (l'option ddof=1 correspond au N-1 qui figure au dénominateur, elle sera inutile quand N >> 1)\n",
        "\n",
        "print(\"Pour T, on a mesuré une valeur moyenne de \", T_m,\" s avec un écart type de \",uT,\" s\") # affichage"
      ]
    },
    {
      "cell_type": "markdown",
      "metadata": {
        "id": "X9Gm2tmkMrWb"
      },
      "source": [
        "### Approche algorithmique, méthode de Monte - Carlo\n",
        "\n",
        "Pour $n=12$ mesures de $10T$ on observait ce type de répartition (l'allure gaussienne est certainement peu ou pas visible)."
      ]
    },
    {
      "cell_type": "code",
      "execution_count": null,
      "metadata": {
        "id": "wvzpCghLIoWa"
      },
      "outputs": [],
      "source": [
        "plt.figure(figsize=(12,6))\n",
        "plt.title(\"Histogramme de répartion des valeurs mesurées\")\n",
        "plt.hist(T) # affichage de l'histogramme"
      ]
    },
    {
      "cell_type": "markdown",
      "metadata": {
        "id": "he6WrDpONRzc"
      },
      "source": [
        "Simulons la mesure de la grandeur $10T$ sous la forme d'un tableau \n",
        "\n",
        "*   de $N=10 000$ valeurs\n",
        "*   de valeur moyenne $\\hat{10T}$\n",
        "*   d'écart type $u(10T)$.\n",
        "\n"
      ]
    },
    {
      "cell_type": "code",
      "execution_count": null,
      "metadata": {
        "id": "HaAvEKYDzDBj"
      },
      "outputs": [],
      "source": [
        "N = 10_000    #Nbre de tirages\n",
        "Dix_T_m =Dix_Ti  #moyenne\n",
        "u_DixT =??       #ecart type\n"
      ]
    },
    {
      "cell_type": "markdown",
      "metadata": {
        "id": "GpNZ9ZDlP5C4"
      },
      "source": [
        "On utilise pour cela la méthode np.random.randn(N) qui permet de créer un tableau de N valeurs de valeur moyenne nulle et d'écart type égal à 1"
      ]
    },
    {
      "cell_type": "code",
      "execution_count": null,
      "metadata": {
        "id": "HDDmezMMPVox"
      },
      "outputs": [],
      "source": [
        "#help(np.random.randn) # retirez le dièze # pour afficher l'aide relative à la commande np.random.randn"
      ]
    },
    {
      "cell_type": "markdown",
      "metadata": {
        "id": "pA5Ui6L5QEMj"
      },
      "source": [
        "Pour dresser notre tableau il suffit alors mutiplier np.random.randn(N) par $u(x)$ et d'ajouter ensuite $\\overline{x}$ pour juster successivement l'écart type et la valeur moyenne de mesure !"
      ]
    },
    {
      "cell_type": "code",
      "execution_count": null,
      "metadata": {
        "id": "HASxfjN8Pq9D"
      },
      "outputs": [],
      "source": [
        "## IMPORTANT\n",
        "\n",
        "Dix_T=Dix_T_m+u_DixT*np.random.randn(N) #on effectue les tirages\n",
        "\n",
        "## IMPORTANT"
      ]
    },
    {
      "cell_type": "markdown",
      "metadata": {
        "id": "d8_xhSjwOa-T"
      },
      "source": [
        "Vérification :"
      ]
    },
    {
      "cell_type": "code",
      "execution_count": null,
      "metadata": {
        "id": "ccMokY0jQp1h"
      },
      "outputs": [],
      "source": [
        "T=Dix_T/10 # On crée un nouveau tableau contenant 10 000 valeurs\n",
        "print(T)\n",
        "#affiche un extrait du tableau (et pas les 10000 valeurs !)"
      ]
    },
    {
      "cell_type": "code",
      "execution_count": null,
      "metadata": {
        "id": "XwF5ZVUZOdQg"
      },
      "outputs": [],
      "source": [
        "\n",
        "print(\"Meilleur estimateur T = \",T.mean(),\" s\")\n",
        "print(\"Ecart type : \",T.std(ddof=1),\" s\") #ddof=1 si on veut tenir compte du N-1 dans le calcul de l'incertitude-type, peu utile ici vu la nvaleur de N.\n",
        "\n",
        "\n",
        "\n",
        "plt.figure(figsize=(12,6))\n",
        "plt.hist(T,bins='auto')\n",
        "#plt.xlim((0,2*T.mean())) # fixe les valeurs limites en abscisse\n",
        "plt.show()"
      ]
    },
    {
      "cell_type": "markdown",
      "metadata": {
        "id": "dPd-3DPJ4KRA"
      },
      "source": [
        "### Ecriture du résultat d’une mesure\n",
        "\n"
      ]
    },
    {
      "cell_type": "code",
      "execution_count": null,
      "metadata": {
        "id": "qwszv0Vj43Qu"
      },
      "outputs": [],
      "source": [
        "print(\"On a mesuré ici T=\",round(T.mean(),?),\" +- \",round(?,?),\" s\")\n"
      ]
    },
    {
      "cell_type": "markdown",
      "metadata": {
        "id": "2CO1shFU8TWb"
      },
      "source": [
        "### \"Mesure\" de la masse suspendue\n",
        "\n",
        "La seule indication à notre disposition est 100 g gravé sur la masse. On considère que $m$ est comprise entre 99 et 101 g avec une distribution uniforme.\n"
      ]
    },
    {
      "cell_type": "code",
      "execution_count": null,
      "metadata": {
        "id": "-6kxvtbI8tLc"
      },
      "outputs": [],
      "source": [
        "## important\n",
        "\n",
        "m_g=np.random.uniform(??,??,??) # en gramme\n",
        "\n",
        "## important\n",
        "\n",
        "print(\"Meilleur estimateur : m=\",m_g.mean(),\" g\")\n",
        "print(\"Ecart type : u(m)=\",m_g.std(),\" g\")\n",
        "print(\"On remarque que u(m) est proche de Delta/sqrt(3)=\",1/np.sqrt(3))\n",
        "\n",
        "\n",
        "plt.figure(figsize=(12,6))\n",
        "plt.hist(m_g,bins='auto')\n",
        "\n",
        "\n",
        "m=m_g/1000 # conversion en kg (unité légale)"
      ]
    },
    {
      "cell_type": "markdown",
      "metadata": {
        "id": "C4iu0z_bYNId"
      },
      "source": [
        "### Comparaison de deux résultats de mesure\n",
        "\n"
      ]
    },
    {
      "cell_type": "code",
      "execution_count": null,
      "metadata": {
        "id": "EJjZ4uAIRq3Q"
      },
      "outputs": [],
      "source": [
        "# Valeur de la période obtenue par vos voisins\n",
        "\n",
        "Tv=??+??*np.random.randn(N)\n",
        "\n",
        "# Calcul de l'écart normalisé\n",
        "En=abs(T.mean()-Tv.mean())/(np.sqrt(T.std()**2+Tv.std()**2))\n",
        "print(\"L'écart normalisé est : \",round(En,2))\n",
        "\n",
        "if En<2:\n",
        "  print(\"Les résultats sont compatibles.\")\n",
        "else:\n",
        "  print(\"Les résultats ne sont pas compatibles.\")\n",
        "\n",
        "plt.figure(figsize=(6,3))\n",
        "plt.hist(T,bins='auto',color='blue') #visualisation des distributions\n",
        "plt.hist(Tv,bins='auto',color='red')\n",
        "plt.title(\"Ecart normalisé : \"+str(round(En,2)))\n",
        "plt.show()"
      ]
    },
    {
      "cell_type": "markdown",
      "metadata": {
        "id": "UpdrtNbymhoq"
      },
      "source": [
        "## Composition des incertitudes"
      ]
    },
    {
      "cell_type": "markdown",
      "metadata": {
        "id": "W6k3wJtCm3aq"
      },
      "source": [
        "### Méthode Monte-Carlo : à privilégier !\n",
        "\n",
        "On calcule l'ensemble des valeurs potentielles du résultat et il ne reste plus qu'à en extraire le meilleur estimateur (la moyenne) et l'incertitude type (l'écart type)."
      ]
    },
    {
      "cell_type": "code",
      "execution_count": null,
      "metadata": {
        "id": "atE-lkvxmfhJ"
      },
      "outputs": [],
      "source": [
        "k1=4*np.pi**2*m/T**2\n",
        "\n",
        "print(\"On a mesuré ici k=\",round(k1.mean(),??),\" +- \",round(k1.std(),??),\" kg.s^(-2)\")"
      ]
    },
    {
      "cell_type": "markdown",
      "source": [
        "### Comparaison avec le groupe voisin ou la valeur constructeur\n",
        "\n",
        "On récupère la valeur de $k$ obtenue par les voisins (ou le constructeur) et on calcule l'écart normalisé."
      ],
      "metadata": {
        "id": "TPxiJk3yk288"
      }
    },
    {
      "cell_type": "code",
      "source": [
        "kv=??\n",
        "ukv=??\n",
        "\n",
        "E_n=abs(k1.mean()-kv)/np.sqrt(k1.std()**2+ukv**2)\n",
        "\n",
        "print(\"L'écart normalisé est de \",round(E_n,2))\n",
        "\n",
        "if E_n<2:\n",
        "  print(\"Les valeurs sont compatibles\")\n",
        "else:\n",
        "  print(\"Les valeurs ne sont pas compatibles\")"
      ],
      "metadata": {
        "id": "x0AZv6ndlH7O"
      },
      "execution_count": null,
      "outputs": []
    },
    {
      "cell_type": "markdown",
      "metadata": {
        "id": "YGdXpyDV1Y4o"
      },
      "source": [
        "## Validation d'une loi affine\n",
        "\n",
        "But de la manipulation : on cherche à la vérifier la loi de Hooke \"la déformation des solides élastiques est une fonction linéaire des contraintes\".\n",
        "\n",
        "Dans le cas d'un ressort vertical, cela se traduit par $$l=\\frac{mg}{k}+l_0$$\n",
        "\n",
        "Protocole :    \n",
        "* on mesure, à la rège, la longueur du ressort vertical en considérant la distance entre les deux spires extrèmes. On considèrera une incertitude type de l'ordre de 1 mm due à la précision de la règle (0.5 mm) et aux erreurs paralaxe qui fausse la lecture.\n",
        "* on suspend une masse marquée $m$ (connue au gramme près $u(m)=1$ g) et on attend léquilibre mécanique.\n",
        "* On mesure à nouveau la longueur du ressort $l$ ($u(l)=1$ mm).\n",
        "* On reproduit la lecture pour d'autres masses marquées.\n",
        "\n",
        "Exploitation :\n",
        "\n"
      ]
    },
    {
      "cell_type": "code",
      "execution_count": null,
      "metadata": {
        "id": "Oywf93LHu_jd"
      },
      "outputs": [],
      "source": [
        "#Données\n",
        "m=np.array([??,??],dtype=float) # masses en g\n",
        "m=m/1000 # conversion en kg (unité légale)\n",
        "\n",
        "l =np.array([??,??],dtype=float) # longueur du ressort en cm\n",
        "l=l/100 # conversion en m (unité légale)\n",
        "\n",
        "\n",
        "#Détermination de coefficients a et b de la droite de régression optimale\n",
        "a,b=np.polyfit(m,l,1)\n",
        "\n",
        "print(\"Les coefficients obtenus pour la régression linéaire sont \",a,\" et \",b)\n",
        "print(f\"Modèle l={a}*m+{b}\")\n",
        "\n"
      ]
    },
    {
      "cell_type": "code",
      "source": [
        "#Contrôle visuel\n",
        "\n",
        "plt.figure(figsize=(12,8))\n",
        "plt.title(\"Validation d'une regréssion linéaire, contrôle visuel\")\n",
        "plt.plot(m,l,'bo',label='Mesures')\n",
        "\n",
        "plt.xlabel('$m$ masse suspendue en kg')\n",
        "plt.ylabel('$l$ longueur de ressort en m')\n",
        "\n",
        "plt.plot(m,a*m+b,'r',label='Droite de regression optimale')\n",
        "\n",
        "plt.legend()\n"
      ],
      "metadata": {
        "id": "_UmudS0vnSZl"
      },
      "execution_count": null,
      "outputs": []
    },
    {
      "cell_type": "markdown",
      "source": [
        "On remarque ici que les points sont alignés sur la droite optimale, le modèle semble à priori validé."
      ],
      "metadata": {
        "id": "RxVb-ktbnqO4"
      }
    },
    {
      "cell_type": "markdown",
      "metadata": {
        "id": "EGC-xJENNCRe"
      },
      "source": [
        "### Recours à une simulation Monte Carlo"
      ]
    },
    {
      "cell_type": "code",
      "execution_count": null,
      "metadata": {
        "id": "IjStp8qR7q62"
      },
      "outputs": [],
      "source": [
        "um=??/1000 # incertitude sur m en kg\n",
        "ul=??/100  # incertitude sur l en m\n",
        "\n",
        "\n",
        "N=1_000 #Nombre de simulations\n",
        "a=np.zeros((N,1),dtype=float) #tableaux vides (pentes et ordonnées)\n",
        "b=np.zeros((N,1),dtype=float)\n",
        "\n",
        "n=len(m) #Nombre de points de mesure\n",
        "\n",
        "plt.figure(figsize=(12,8))\n",
        "plt.title(\"Regressions linéaires potentielles\")\n",
        "\n",
        "\n",
        "for k in range(N): # tirages\n",
        "    mk=m+um*np.random.uniform(-1,1,n) #si loi uniforme\n",
        "    lk=l+ul*np.random.randn(n) #si loi normale\n",
        "    a[k],b[k]=np.polyfit(mk,lk,1) #pente et ordonnée pour ce tirage\n",
        "    plt.plot(mk,a[k]*mk+b[k],'r')\n",
        "\n",
        "print(\"Pente de la droite : \",a.mean(),\" +- \",a.std(ddof=1))\n",
        "print(\"Ordonnée a l'origine : \",b.mean(),\" +- \",b.std(ddof=1))\n",
        "\n",
        "plt.xlabel('$m$ masse suspendue en kg')\n",
        "plt.ylabel('$l$ longueur de ressort en m')\n",
        "\n",
        "\n",
        "plt.plot(m,l,'bo')"
      ]
    },
    {
      "cell_type": "code",
      "execution_count": null,
      "metadata": {
        "id": "QITP25eu7wmO"
      },
      "outputs": [],
      "source": [
        "plt.figure(figsize=(12,8))\n",
        "plt.title(\"Validation d'une regréssion linéaire, contrôle visuel\")\n",
        "plt.errorbar(m,l,xerr=um,yerr=ul,fmt='bo',label='Mesures')\n",
        "\n",
        "plt.xlabel('$m$ masse suspendue en kg')\n",
        "plt.ylabel('$l$ longueur de ressort en m')\n",
        "\n",
        "\n",
        "print(f\"Les coefficients obtenus pour la régression linéaire sont {round(a.mean(),3)} +- {round(a.std(ddof=1),3)} et {round(b.mean(),2)} +- {round(b.std(ddof=1),2)}\")\n",
        "print(f\"Modèle l={round(b.mean(),1)}+{round(a.mean(),3)}*m avec l en m et m en kg\")\n",
        "\n",
        "plt.plot(m,a.mean()*m+b.mean(),'r',label='Droite de regression optimale')\n",
        "\n",
        "plt.legend()\n"
      ]
    },
    {
      "cell_type": "markdown",
      "metadata": {
        "id": "mZyRz2SpS9pA"
      },
      "source": [
        "Le modèle est validé avec $$l=\\frac{g}{k}m+l_0=a.m+b \\Rightarrow \\frac{g}{k}=a \\iff k=\\frac{g}{a}$$\n",
        "ce qui nous permet de déterminer à nouveu $k$ mais par une méthode indépendante de la précédente (méthode statique et non dynamique)."
      ]
    },
    {
      "cell_type": "code",
      "execution_count": null,
      "metadata": {
        "id": "jGpNEo95b65G"
      },
      "outputs": [],
      "source": [
        "g=np.random.uniform(9.7,9.9,N)\n",
        "\n",
        "k2=??\n",
        "\n",
        "print(f\"Par cette méthode on obtient k={round(k2.mean(),2)} +- {round(k2.std(ddof=1),2)} kg/s^2\")\n",
        "\n",
        "En=abs(k1.mean()-k2.mean())/np.sqrt(k1.std(ddof=1)**2+k2.std(ddof=1)**2)\n",
        "\n",
        "print(\"L'écart normalisé avec la valeur obtenue par l'autre méthode est de \",round(En,2))\n",
        "\n",
        "if E_n<??:\n",
        "  print(\"Les valeurs sont compatibles\")\n",
        "else:\n",
        "  print(\"Les valeurs ne sont pas compatibles\")\n"
      ]
    },
    {
      "cell_type": "markdown",
      "metadata": {
        "id": "9OCVbtwzDgro"
      },
      "source": [
        "### Cas d'un modèle vraiment linéaire\n"
      ]
    },
    {
      "cell_type": "code",
      "execution_count": null,
      "metadata": {
        "id": "0wR0kb_CRCOV"
      },
      "outputs": [],
      "source": [
        "\n",
        "l0=b.mean()\n",
        "\n",
        "d=l-l0\n",
        "\n",
        "#Contrôle visuel\n",
        "\n",
        "plt.figure(figsize=(12,8))\n",
        "plt.title(\"Validation d'une regréssion linéaire, contrôle visuel\")\n",
        "plt.plot(m,d,'bo',label='Mesures')\n",
        "\n",
        "plt.xlabel('$m$ masse suspendue en kg')\n",
        "plt.ylabel('$d$ élonguation de ressort en m')\n",
        "\n",
        "#Détermination de coefficients a et b de la droite de régression optimale\n",
        "a2,b2=np.polyfit(m,d,1)\n",
        "# b2 devrait être nul et a2=a\n",
        "\n",
        "print(\"Les coefficients obtenus pour la régression linéaire sont \",a2,\" et \",b2)\n",
        "print(f\"Modèle l={b2}+{a2}*m\")\n",
        "\n",
        "plt.plot(m,a2*m+b2,'r',label='Droite de regression optimale')\n",
        "\n",
        "plt.legend()\n"
      ]
    },
    {
      "cell_type": "code",
      "execution_count": null,
      "metadata": {
        "id": "F44Aa3DiTHdj"
      },
      "outputs": [],
      "source": [
        "d=np.delete(d,0) #pour éviter le problème 0/0 si la droite passe par l'origine\n",
        "m=np.delete(m,0)\n",
        "\n",
        "k3=g.mean()*m/d\n",
        "\n",
        "\n",
        "print(f\"Par cette méthode on obtient k={round(k3.mean(),2)} +- {round(k3.std(ddof=1),2)} kg/s^2\")\n",
        "\n",
        "En=??\n",
        "\n",
        "print(\"L'écart normalisé avec la valeur obtenue par l'autre méthode est de \",round(En,2))\n",
        "\n",
        "if E_n<2:\n",
        "  print(\"Les valeurs sont compatibles\")\n",
        "else:\n",
        "  print(\"Les valeurs ne sont pas compatibles\")\n"
      ]
    }
  ],
  "metadata": {
    "colab": {
      "collapsed_sections": [],
      "provenance": [],
      "authorship_tag": "ABX9TyO8vIPYofIJsMg2Q0aFBjUx",
      "include_colab_link": true
    },
    "kernelspec": {
      "display_name": "Python 3",
      "name": "python3"
    },
    "language_info": {
      "name": "python"
    }
  },
  "nbformat": 4,
  "nbformat_minor": 0
}