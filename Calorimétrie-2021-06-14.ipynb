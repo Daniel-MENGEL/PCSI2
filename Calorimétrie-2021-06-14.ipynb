{
 "cells": [
  {
   "cell_type": "markdown",
   "metadata": {},
   "source": [
    "# Calorimétrie"
   ]
  },
  {
   "cell_type": "markdown",
   "metadata": {},
   "source": [
    "## Texte du TP"
   ]
  },
  {
   "cell_type": "markdown",
   "metadata": {},
   "source": [
    "![](https://www.pcsi2.net/cpge/wp-content/uploads/physique/Calorimetrie.pdf)"
   ]
  },
  {
   "cell_type": "markdown",
   "metadata": {},
   "source": [
    "## Masse en eau du calorimètre\n",
    "\n",
    "\n",
    "### Objectif de la manipulation :\n",
    "Mesurer la masse en eau $\\mu$ (ou la capacité thermique $C_{cal}=\\mu.c_e$) du calorimètre\n",
    "\n",
    "### Protocole\n",
    "- On pèse $m_0$ la masse du (vase du) calorimètre vide à la balance électronique (à 0,01 g près).\n",
    "- Toujours sur la balance, on ajoute de l'eau (quelques centaines de grammes) dans le calorimètre.\n",
    "- On mesure la masse obtenue $m_{01}$ pour en déduire la masse d'eau ajoutée : on mesure $m_1+m_0$ à la balance.\n",
    "- Après équilibre thermique, on mesure la température $T_1$ de l'eau dans le calorimètre à l'aide d'un thermomètre à 0,1 °C près.\n",
    "- On chauffe (à l'aide d'une bouilloire) de l'eau dont on récupère une certaine masse dans un becher en pyrex.\n",
    "- Après homogénéisation, on mesure $T_2$ à l'aide du thermomètre, on vérifie $T_1$ et on place $m_2$ dans le calorimètre qu'on referme aussitôt.\n",
    "- On mesure la température finale $T_f$ dès qu'elle se stabilise.\n",
    "- On détermine $m_2$ à la balance par différence : on mesure $m_{012}=m_0+m_1+m_2$.\n",
    "\n",
    "### Exploitation\n",
    "Le système { eau froide (masse $m_1$, température $T_1$) + eau chaude $(m_2,T_2)$ + calorimètre $(\\mu, T_1)$ } subit une transformation supposée adiabatique monobare.\n",
    "\n",
    "L'application du premier principe de la thermodynamique dans le cas monobare avec équilibre mécanique dans l'état initial et final se traduit ici par $$\\Delta H=W_\\text{autre}+Q=0+0=0$$\n",
    "\n",
    "Comme $H$ est une fonction extensive et qu'on travaille avec des des phases condensées, on en déduit :\n",
    "$$\\Delta H_1+\\Delta H_2+\\Delta H_{cal}=0 \\Rightarrow m_1.c_e(T_f-T_1)+m_2.c_e(T_f-T_2)+\\mu.c_e(T_f-T_1)=0$$\n",
    "et finalement,\n",
    "$$\\mu=\\frac{m_2(T_2-T_f)}{T_f-T_1}-m_1$$\n",
    "\n",
    "On cherche à calculer écart type sur $\\mu$ connaissant celui sur $m_1$, $m_2$, $T_1$, $T_2$ et $T_f$.\n",
    "\n",
    "Pour cela on propose d'utiliser la méthode de Monte-Carlo."
   ]
  },
  {
   "cell_type": "markdown",
   "metadata": {},
   "source": [
    "On lieu de mesurer $N$ fois la valeur de $m_0$ par des méthodes indépendantes, on effectue $N$ tirages \"autour\" de $m_0$ pour obtenir une population de $N$ de ces valeurs.\n",
    "On doit indiquer \n",
    "- la valeur du meilleur estimateur (la valeur mesurée) $<m_0>$\n",
    "- son incertitude type (caractérisant la variabilité potentielle de la valeur mesurée) $u(m_0)$\n",
    "- éventuellement la \"forme de la distribution\" (on prendra normale par défaut)\n",
    "\n",
    "On utilise alors le module numpy de python. Il contient random.randn(N) (tirage de N valeurs qui donne une distribution de forme normale) et permet en outre de faire des calculs très facilement sur des tableaux de valeurs.\n",
    "Le module matplotlib.pyplot nous permettra quant à lui de tracer les distributions sous forme d'histogrammes."
   ]
  },
  {
   "cell_type": "code",
   "execution_count": 20,
   "metadata": {},
   "outputs": [],
   "source": [
    "import numpy as np\n",
    "import matplotlib.pyplot as plt\n",
    "\n",
    "N=10000\n"
   ]
  },
  {
   "cell_type": "markdown",
   "metadata": {},
   "source": [
    "Par exemple si vous avez mesuré $m_0=97,01$ g à l'aide de la balance précise à $0.1$ g vous construirez le tableau de $N$ valeurs avec l'instruction m0=63.05+0.01*np.random.randn(N) . Ici vous avez obtenu :"
   ]
  },
  {
   "cell_type": "code",
   "execution_count": 2,
   "metadata": {},
   "outputs": [],
   "source": [
    "m0=97.01+0.1*np.random.randn(N)"
   ]
  },
  {
   "cell_type": "code",
   "execution_count": 3,
   "metadata": {},
   "outputs": [
    {
     "data": {
      "image/png": "[encoded data removed]",
      "text/plain": [
       "<Figure size 432x288 with 1 Axes>"
      ]
     },
     "metadata": {
      "needs_background": "light"
     },
     "output_type": "display_data"
    }
   ],
   "source": [
    "plt.figure()\n",
    "plt.clf()\n",
    "plt.title(\"Distribution de $m_0$\")\n",
    "plt.hist(m0,bins=200)\n",
    "plt.xlabel(\"$m_0$ en g\")\n",
    "plt.ylabel(\"densité de probabilité de $m_0$\")\n",
    "plt.show()"
   ]
  },
  {
   "cell_type": "markdown",
   "metadata": {},
   "source": [
    "Et on retrouve ainsi la valeur du meilleur estimateur de $m_0$ et son incertitude type."
   ]
  },
  {
   "cell_type": "code",
   "execution_count": 4,
   "metadata": {},
   "outputs": [
    {
     "name": "stdout",
     "output_type": "stream",
     "text": [
      "m_0= 97.01138888122934  et u(m_0)= 0.09942944589496788\n"
     ]
    }
   ],
   "source": [
    "print(\"m_0=\",m0.mean(),\" et u(m_0)=\",m0.std())"
   ]
  },
  {
   "cell_type": "markdown",
   "metadata": {},
   "source": [
    "Faire de même pour $T_1$, $T_2$ et $T_f$ qu'on a obtenu par mesure directe."
   ]
  },
  {
   "cell_type": "code",
   "execution_count": 5,
   "metadata": {},
   "outputs": [],
   "source": [
    "T1=26.3+0.1*0.1*np.random.randn(N)\n",
    "T2=56.3+0.1*np.random.randn(N)\n",
    "Tf=38.6+0.1*np.random.randn(N)"
   ]
  },
  {
   "cell_type": "markdown",
   "metadata": {},
   "source": [
    "La valeur de $m_1$ est déduite de la mesure de $m_0$ et $m_0+m_1=m_{01}$ à la balance.\n",
    "On doit donc calculer $m_1$ et son incertitude en utilisant une formule de propagation des incertitudes du type $$m_1=m_{01}-m_0 \\Rightarrow u(m_1)=\\sqrt{u(m_{01})^2+u(m_1)^2}$$ ou en générant une liste de liste des valeurs possibles de $m_1$ avant d'en calculer l'écart type (on trouvera la même valeur : $0.01*\\sqrt{2}$ ici).\n",
    "\n",
    "Ici par exemple, si on a mesuré $m_1+m_0=158,13$ g on détermine."
   ]
  },
  {
   "cell_type": "code",
   "execution_count": 6,
   "metadata": {},
   "outputs": [
    {
     "name": "stdout",
     "output_type": "stream",
     "text": [
      "m_1= 226.68954844415887  et u(m_1)= 0.14171535190610915\n"
     ]
    }
   ],
   "source": [
    "m01=323.7+0.1*np.random.randn(N)\n",
    "m1=m01-m0\n",
    "print(\"m_1=\",m1.mean(),\" et u(m_1)=\",m1.std())"
   ]
  },
  {
   "cell_type": "markdown",
   "metadata": {},
   "source": [
    "Déterminer $m_2$ et son écart type de la même manière."
   ]
  },
  {
   "cell_type": "code",
   "execution_count": 7,
   "metadata": {},
   "outputs": [
    {
     "name": "stdout",
     "output_type": "stream",
     "text": [
      "m_2= 194.20032020476083  et u(m_2)= 0.14077535230934757\n"
     ]
    }
   ],
   "source": [
    "m012=517.9+0.1*np.random.randn(N)\n",
    "m2=m012-m01\n",
    "print(\"m_2=\",m2.mean(),\" et u(m_2)=\",m2.std())"
   ]
  },
  {
   "cell_type": "markdown",
   "metadata": {},
   "source": [
    "On peut maintenant calculer $\\mu$ en utilisant la méthode de Monte-Carlo pour tenir compte de la propagation des incertitudes plutôt que des formules plus complexes du type \n",
    "$$c=a.b \\Rightarrow u(c)=c.\\sqrt{\\frac{u(a)^2}{a^2}+\\frac{u(b)^2}{b^2}}$$\n",
    "dès qu'on combine des sommes et des produits comme ici.\n",
    "\n",
    "Déterminer $\\mu$ en g et son écart type $u(\\mu)$."
   ]
  },
  {
   "cell_type": "code",
   "execution_count": 8,
   "metadata": {
    "scrolled": true
   },
   "outputs": [
    {
     "data": {
      "image/png": "[encoded data removed]",
      "text/plain": [
       "<Figure size 432x288 with 1 Axes>"
      ]
     },
     "metadata": {
      "needs_background": "light"
     },
     "output_type": "display_data"
    }
   ],
   "source": [
    "mu=m2*(T2-Tf)/(Tf-T1)-m1\n",
    "\n",
    "plt.figure()\n",
    "plt.clf()\n",
    "plt.title(\"Distribution de $\\mu$\")\n",
    "plt.hist(mu,bins='rice')\n",
    "plt.xlabel(\"$\\mu$ en g\")\n",
    "plt.ylabel(\"densité de probabilité de $\\mu$\")\n",
    "plt.show()"
   ]
  },
  {
   "cell_type": "code",
   "execution_count": 9,
   "metadata": {},
   "outputs": [
    {
     "name": "stdout",
     "output_type": "stream",
     "text": [
      "mu= 52.77802693584652  et u(mu)= 4.166809021061026\n"
     ]
    }
   ],
   "source": [
    "print(\"mu=\",mu.mean(),\" et u(mu)=\",mu.std())\n"
   ]
  },
  {
   "cell_type": "markdown",
   "metadata": {},
   "source": [
    "## Capacité thermique massique de l'eau $c_e$"
   ]
  },
  {
   "cell_type": "markdown",
   "metadata": {},
   "source": [
    "### Objectif de la manipulation\n",
    "Mesurer la capacité thermique massique de l'eau $c_e$.\n",
    "\n",
    "### Protocole\n",
    "Pour mesurer $c_e$ on ne peut pas se contenter de mélanger des masses d'eau à différentes températures puisque $c_e$ se simplifie dans alors les bilans enthalpiques.\n",
    "\n",
    "On pourrait utiliser un autre corps de capacité thermique connue mais parmi le matériel dont nous diposons, nous allons plutôt utiliser le résistor et l'alimentation stabilisée. C'est la méthode électrique.\n",
    "\n",
    "- On place le résistor dans le calorimètre et on pèse la masse $m_0$ obtenue.\n",
    "- On ajoute une masse $m_e$ d'eau (mesurée par différence) à température ambiante. Le résistor doit être entièrement immergé.\n",
    "- On mesure la résistance $R$ du résistor à l'aide d'un ohmètre.\n",
    "- Sans la relier au résistor, on règle la tension $E$ de l'alimentation stabilisée de façon à ne pas dépasser la valeur maximale de la puissance admissible par le résistor.\n",
    "- L'intensité du courant $I$ qui traverse le résistor sera mesurée au multimètre réglé en ampèremètre, mode DCA.\n",
    "- On mesure la température $T_i$ de l'eau à l'équilibre thermique.\n",
    "- On déclenche un chronomètre au moment où l'alimentation est branchée et on attend assez longtemps pour que la température varie de quelques degrés dans le calorimètre fermé. Il faut homogénéiser de façon régulière.\n",
    "- On relève la durée $\\Delta t$ écoulée et la température finale $T_f$ obtenue après homogénéisation.\n",
    "\n",
    "### Exploitation\n",
    "Vu la masse du résistor et le matériau dont il est constitué, on néglige sa capacité thermique devant celle de l'eau et du calorimètre.\n",
    "Le résistor reçoit un travail électrique et le dissipe intégralement en transfert thermique par effet Joule. La puissance dissipée par effet Joule est $P_J=R.I^2$ supposée constante sur $\\Delta t$ d'où un travail électrique $W_{elec}=RI^2.\\Delta t$.\n",
    "Le système { Eau ($m_e,T_i$) + Calorimètre ($C_{cal}, T_i$) + Résistor ($C_{R}, T_i$) } subit une transformation supposée adiabatique monobare.\n",
    "\n",
    "L'application du premier principe de la thermodynamique dans le cas monobare avec équilibre mécanique dans l'état initial et final se traduit ici par $$\\Delta H=W_\\text{autre}+Q=W_{elec}+0=RI^2.\\Delta t$$\n",
    "\n",
    "Comme $H$ est une fonction extensive et qu'on travaille avec des phases condensées, on en déduit :\n",
    "$$\\Delta H_{eau}+\\Delta H_{cal}+\\Delta H_{R}=RI^2.\\Delta t \\Rightarrow m_1.c_e(T_f-T_i)+\\mu.c_e(T_f-T_i)+0=RI^2.\\Delta t$$\n",
    "et finalement,\n",
    "$$ce=\\frac{R.I^2.\\Delta t}{(m_e+\\mu)(T_f-T_i)}$$\n",
    "\n",
    "Calculer $c_e$ et son écart type connaissant celui sur $m_e$, $\\mu$, $T_i$, $T_f$ $I$, $\\Delta t$ et $R$."
   ]
  },
  {
   "cell_type": "code",
   "execution_count": 10,
   "metadata": {},
   "outputs": [
    {
     "name": "stdout",
     "output_type": "stream",
     "text": [
      "c_e= 3.9368100391413683  et u(c_e)= 0.31690441509521045\n"
     ]
    }
   ],
   "source": [
    "m0=182.33+0.01*np.random.randn(N)\n",
    "m0e=428.96+0.01*np.random.randn(N)\n",
    "me=m0e-m0\n",
    "Ti=25.5+0.1*np.random.randn(N)\n",
    "Tf=27.7+0.1*np.random.randn(N)\n",
    "R=33.6+0.1*np.random.randn(N)\n",
    "I=0.45+0.01*np.random.randn(N)\n",
    "Deltat=(6*60+19.0)+0.1*np.random.randn(N)\n",
    "ce=(R*I**2*Deltat)/((me+mu)*(Tf-Ti))\n",
    "print(\"c_e=\",ce.mean(),\" et u(c_e)=\",ce.std())"
   ]
  },
  {
   "cell_type": "markdown",
   "metadata": {},
   "source": [
    "On souhaite comparer la valeur mesurée <c_e> à la valeur de référence $c_{e,\\rm ref}=4,18$ J.g$^{-1}$.K$^{-1}$.\n",
    "Pour cela, on va calculer l'écart normalisé $E_n$ (ou Z-score)\n",
    "$$E_n=\\frac{|<c_e>-c_{e,\\rm ref}|}{u(c_e)}$$\n",
    "On admet que si cette valeur est inférieure à 2 alors le processus de mesurage a donné une valeur de $c_e$ compatible avec la valeur de référence."
   ]
  },
  {
   "cell_type": "code",
   "execution_count": 11,
   "metadata": {},
   "outputs": [
    {
     "name": "stdout",
     "output_type": "stream",
     "text": [
      "Le Z-score de cette mesure est  0.7673921513070989\n",
      "Bravo, la valeur mesurée est compatible avec celle de référence.\n"
     ]
    }
   ],
   "source": [
    "En=abs(ce.mean()-4.18)/ce.std()\n",
    "print(\"Le Z-score de cette mesure est \",En)\n",
    "if En<2:\n",
    "    \n",
    "    print(\"Bravo, la valeur mesurée est compatible avec celle de référence.\")\n",
    "else:\n",
    "    print(\"La valeur mesurée n'est pas compatible avec celle de référence.\")"
   ]
  },
  {
   "cell_type": "markdown",
   "metadata": {},
   "source": [
    "## Capacité thermique massique d'un métal c"
   ]
  },
  {
   "cell_type": "markdown",
   "metadata": {},
   "source": [
    "### Objectif de la manipulation\n",
    "Mesurer la capacité thermique massique $c$ d'un métal\n",
    "\n",
    "### Protocole\n",
    "Nous utiliserons à nouveau la méthode des mélanges. La difficulté ici est de déterminer la température initial $T_{m}$ du métal.\n",
    "\n",
    "- On identifie le métal à son aspect et sa densité : Fer, Cuivre ou Aluminium.\n",
    "- On pèse la masse $m$ de métal à la balance.\n",
    "- On place le métal dans un bécher d'eau bouillante placé sur la plaque chauffante, le métal est entièrement immergé dans l'eau bouillante. Un fil permet de la placer puis de le sortir du becher sans se bruler. On attend assez longtemps pour s'assurer qu'il attiendra $T_{m} \\sim 100$ °C. On mesurera la température de l'eau bouillante.\n",
    "- Pendant ce temps, on mesure la masse $m_0$ du calorimètre vide.\n",
    "- On ajoute une masse $m_e$ d'eau (mesurée par différence) à température ambiante, on mesure sa température $T_e$ dans le calorimètre.\n",
    "- Quand le métal a atteint $T_m$, on le plonge rapidement dans le calorimètre.\n",
    "- On mesure la température $T_f$ de l'eau à l'équilibre thermique final.\n",
    "\n",
    "### Exploitation\n",
    "Le système { Eau ($m_e,T_e$) + Calorimètre ($C_{cal}, T_e$) + métal ($m, T_i$) } subit une transformation supposée adiabatique monobare.\n",
    "\n",
    "L'application du premier principe de la thermodynamique dans le cas monobare avec équilibre mécanique dans l'état initial et final se traduit ici par $$\\Delta H=W_\\text{autre}+Q=0+0=0$$\n",
    "\n",
    "Comme $H$ est une fonction extensive et qu'on travaille avec des phases condensées, on en déduit :\n",
    "$$\\Delta H_{eau}+\\Delta H_{cal}+\\Delta H_{m}=0 \\Rightarrow m_e.c_e(T_f-T_e)+\\mu.c_e(T_f-T_e)+m.c(T_f-T_i)=0$$\n",
    "et finalement,\n",
    "$$c=\\frac{c_e(m_e+\\mu)(T_f-T_e)}{m(T_i-T_f)}$$\n",
    "\n",
    "Calculer $c$ et son écart type connaissant celui sur $m_e$, $\\mu$, $T_i$, $T_f$ et $m$."
   ]
  },
  {
   "cell_type": "code",
   "execution_count": 12,
   "metadata": {},
   "outputs": [
    {
     "name": "stdout",
     "output_type": "stream",
     "text": [
      "Pour l'aluminium, c= 0.8997102853690206  et u(c)= 0.051310877021746346\n"
     ]
    }
   ],
   "source": [
    "m=57.03+0.01*np.random.randn(N)\n",
    "m0=182.33+0.01*np.random.randn(N)\n",
    "m0e=428.96+0.01*np.random.randn(N)\n",
    "me=m0e-m0\n",
    "Te=33.5+0.1*np.random.randn(N)\n",
    "Ti=99.5+0.1*np.random.randn(N)\n",
    "Tf=36.1+0.1*np.random.randn(N)\n",
    "\n",
    "c=4.18*(me+mu)*(Tf-Te)/(m*(Ti-Tf))\n",
    "print(\"Pour l'aluminium, c=\",c.mean(),\" et u(c)=\",c.std())"
   ]
  },
  {
   "cell_type": "markdown",
   "metadata": {},
   "source": [
    "Votre mesurage est-il compatible avec la valeur de référence sachant que\n",
    "\n",
    "| Métal   | Cuivre | Fer | Aluminuim |\n",
    "|:--------|:------:|:---:|:---------:|\n",
    "|$c$ (J/g)| 0,385  |0,444| 0,897     |\n",
    "\n",
    "On calculera l'écart normalisé.\n"
   ]
  },
  {
   "cell_type": "code",
   "execution_count": 13,
   "metadata": {},
   "outputs": [
    {
     "name": "stdout",
     "output_type": "stream",
     "text": [
      "Le Z-score de cette mesure est  0.05282087398100729\n",
      "Bravo, la valeur mesurée est compatible avec celle de référence.\n"
     ]
    }
   ],
   "source": [
    "En=abs(c.mean()-0.897)/c.std()\n",
    "print(\"Le Z-score de cette mesure est \",En)\n",
    "if En<2:\n",
    "    print(\"Bravo, la valeur mesurée est compatible avec celle de référence.\")\n",
    "else:\n",
    "    print(\"La valeur mesurée n'est pas compatible avec celle de référence.\")"
   ]
  },
  {
   "cell_type": "markdown",
   "metadata": {},
   "source": [
    "## Chaleur latente de fusion de la glace $L_f=\\Delta h_{S \\to L}$"
   ]
  },
  {
   "cell_type": "markdown",
   "metadata": {},
   "source": [
    "### Objectif de la manipulation\n",
    "\n",
    "On cherche enfin à mesurer l'enthalpie massique (ou chaleur latente) de fusion de l'eau, c'est à dire l'énergie nécessaire pour faire passer un kilogramme d'eau solide à l'état de liquide à pression et température constante.\n",
    "Il faut également s'arranger pour que toute cette masse d'eau fonde dans le calorimètre (plus que du liquide à la fin).\n",
    "\n",
    "### Protocole\n",
    "\n",
    "On utilise à nouveau la méthode des mélanges, la difficulté ici étant de déterminer précisément la température et la massse de glace qu'on va ajouter dans le calorimètre.\n",
    "\n",
    "- On récupère au bureau dans un bécher un mélange de \"glace fondante\" (une bonne poignés de glaçons en équilibre avec de l'eau liquide), sa température est alors $T_{G}=0,0$ °C à pression atmosphérique.\n",
    "- Mesurer la masse $m_0$ du calorimètre vide.\n",
    "- Placer une masse $m_e$ d'eau relativement chaude dans le calorimètre.\n",
    "- On mesure la masse $m_{0e}$ pour en déduire $m_e$.\n",
    "- On mesure la température $T_i$ de l'eau dans le calorimètre.\n",
    "- On ajoute calmement dans le calorimètre des glaçons qu'on éssuie un par un (pour éviter d'introduire de l'eau liquide).\n",
    "- On surveille que la température de l'eau liquide n'approche pas 0°C mais varie suffisamment pour gagner en précision.\n",
    "- On relève la température $T_f$ à l'équilibre thermique final.\n",
    "- On mesure la masse $m_{0eG}$ du calorimètre plein pour en déduire la masse $m_G$ de glace ajoutée.\n",
    "\n",
    "### Exploitation\n",
    "Le système { Eau liquide ($m_e,T_e$) + Calorimètre ($C_{cal},T_e$) + Eau solide ($m_G$,T_G$) } subit une transformation supposée adiabatique monobare.\n",
    "\n",
    "\n",
    "L'application du premier principe de la thermodynamique dans le cas monobare avec équilibre mécanique dans l'état initial et final se traduit ici par $$\\Delta H=W_\\text{autre}+Q=0+0=0$$\n",
    "\n",
    "Comme $H$ est une fonction extensive et qu'on travaille avec des phases condensées et un changement d'état, on en déduit :\n",
    "$$\\Delta H_{eau}+\\Delta H_{cal}+\\Delta H_{G}=0 \\Rightarrow m_e.c_e(T_f-T_e)+\\mu.c_e(T_f-T_e)+m_GL_f+m_G.c_e(T_f-T_G)=0$$\n",
    "Attention, il ne faut pas oublier le dernier terme qui traduit la variation d'enthalpie de l'eau initialement solide, qui a fondu et qui passe ensuite de $T_G=0,0$°C à $T_f$.\n",
    "Finalement,\n",
    "$$L_f=\\frac{(m_e+\\mu)c_e(T_e-T_f)}{m_G}-c_e(T_f-T_G)$$\n",
    "\n",
    "Calculer $L_f=\\Delta h_f$ et son écart type connaissant celui sur $m_e$, $\\mu$, $T_e$, $T_f$ et $m_G$."
   ]
  },
  {
   "cell_type": "code",
   "execution_count": 18,
   "metadata": {},
   "outputs": [
    {
     "name": "stdout",
     "output_type": "stream",
     "text": [
      "L_f= 367.2959562810947  et u(Lf)= 5.945353392208584\n"
     ]
    }
   ],
   "source": [
    "m0=97.85+0.1*np.random.randn(N)\n",
    "m0e=352.55+0.01*np.random.randn(N)\n",
    "me=m0e-m0\n",
    "m0eG=440.71+0.1*np.random.randn(N)\n",
    "mG=m0eG-m0e\n",
    "Te=36.4+0.1*np.random.randn(N)\n",
    "TG=0.4+0.1*np.random.randn(N)\n",
    "Tf=8.8+0.1*np.random.randn(N)\n",
    "\n",
    "Lf=4.18*(me+mu)*(Te-Tf)/(mG)-4.18*(Tf-TG)\n",
    "print(\"L_f=\",Lf.mean(),\" et u(Lf)=\",Lf.std())"
   ]
  },
  {
   "cell_type": "markdown",
   "metadata": {},
   "source": [
    "Calculer l'écart normalisé $E_n$ et conclure sachant que la valeur attentue est $L_f=335$ J.g$^{-1}$"
   ]
  },
  {
   "cell_type": "code",
   "execution_count": 19,
   "metadata": {},
   "outputs": [
    {
     "name": "stdout",
     "output_type": "stream",
     "text": [
      "Le Z-score de cette mesure est  5.4321339961756845\n",
      "La valeur mesurée n'est pas compatible avec celle de référence.\n"
     ]
    }
   ],
   "source": [
    "En=abs(Lf.mean()-335)/Lf.std()\n",
    "print(\"Le Z-score de cette mesure est \",En)\n",
    "if En<2:\n",
    "    print(\"Bravo, la valeur mesurée est compatible avec celle de référence.\")\n",
    "else:\n",
    "    print(\"La valeur mesurée n'est pas compatible avec celle de référence.\")"
   ]
  },
  {
   "cell_type": "code",
   "execution_count": null,
   "metadata": {},
   "outputs": [],
   "source": []
  }
 ],
 "metadata": {
  "celltoolbar": "Format de la Cellule Texte Brut",
  "kernelspec": {
   "display_name": "Python 3",
   "language": "python",
   "name": "python3"
  },
  "language_info": {
   "codemirror_mode": {
    "name": "ipython",
    "version": 3
   },
   "file_extension": ".py",
   "mimetype": "text/x-python",
   "name": "python",
   "nbconvert_exporter": "python",
   "pygments_lexer": "ipython3",
   "version": "3.8.5"
  },
  "varInspector": {
   "cols": {
    "lenName": 16,
    "lenType": 16,
    "lenVar": 40
   },
   "kernels_config": {
    "python": {
     "delete_cmd_postfix": "",
     "delete_cmd_prefix": "del ",
     "library": "var_list.py",
     "varRefreshCmd": "print(var_dic_list())"
    },
    "r": {
     "delete_cmd_postfix": ") ",
     "delete_cmd_prefix": "rm(",
     "library": "var_list.r",
     "varRefreshCmd": "cat(var_dic_list()) "
    }
   },
   "types_to_exclude": [
    "module",
    "function",
    "builtin_function_or_method",
    "instance",
    "_Feature"
   ],
   "window_display": false
  }
 },
 "nbformat": 4,
 "nbformat_minor": 5
}
